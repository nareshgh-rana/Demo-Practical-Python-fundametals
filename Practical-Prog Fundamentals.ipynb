{
 "cells": [
  {
   "cell_type": "code",
   "execution_count": 1,
   "metadata": {},
   "outputs": [
    {
     "name": "stdout",
     "output_type": "stream",
     "text": [
      "Enter your Message:welcome to Python Programming\n",
      "Hello welcome to Python Programming\n"
     ]
    }
   ],
   "source": [
    "#Demo1:Program to input Welcome massage and print it\n",
    "message=input(\"Enter your Message:\")\n",
    "print(\"Hello\",message)"
   ]
  },
  {
   "cell_type": "code",
   "execution_count": 3,
   "metadata": {},
   "outputs": [
    {
     "name": "stdout",
     "output_type": "stream",
     "text": [
      "Area of Rectangle:  200\n"
     ]
    }
   ],
   "source": [
    "'''Demo2:Write a Python program to find the area of a rectangle given that its length is 10\n",
    "units and breadth is 20 units.'''\n",
    "length = 10\n",
    "breadth = 20\n",
    "area = length * breadth\n",
    "print(\"Area of Rectangle: \",area)"
   ]
  },
  {
   "cell_type": "code",
   "execution_count": 5,
   "metadata": {},
   "outputs": [
    {
     "name": "stdout",
     "output_type": "stream",
     "text": [
      "Enter number1:35\n",
      "Enter number2:40\n",
      "Enter number3:59\n",
      "three number are: 35 40 59\n",
      "sum is: 134\n"
     ]
    }
   ],
   "source": [
    "#Demo3: Program to  obtain three numbers and  print sum\n",
    "num1=int(input(\"Enter number1:\"))\n",
    "num2=int(input(\"Enter number2:\"))\n",
    "num3=int(input(\"Enter number3:\"))\n",
    "sum=num1+num2+num3\n",
    "print(\"three number are:\",num1,num2,num3)\n",
    "print(\"sum is:\",sum)"
   ]
  },
  {
   "cell_type": "code",
   "execution_count": 6,
   "metadata": {},
   "outputs": [
    {
     "name": "stdout",
     "output_type": "stream",
     "text": [
      "Enter a number:7\n",
      "Square of number 7 is: 49\n",
      "Cube of number 7 is: 343\n"
     ]
    }
   ],
   "source": [
    "#Demo4: program to input a number and print its square and cube.\n",
    "num=int(input(\"Enter a number:\"))\n",
    "sqr=num*num\n",
    "cub=num*num*num\n",
    "print(\"Square of number\",num,\"is:\",sqr)\n",
    "print(\"Cube of number\",num,\"is:\",cub)"
   ]
  },
  {
   "cell_type": "code",
   "execution_count": 12,
   "metadata": {},
   "outputs": [
    {
     "name": "stdout",
     "output_type": "stream",
     "text": [
      "Enter centermeter:60\n",
      "Centemeter: 60\n",
      "inches: 5.0\n",
      "Feet: 2.0\n"
     ]
    }
   ],
   "source": [
    "#Demo5: program to  input a vlue in centemeter and convert it into feet(12cm=1feet)\n",
    "cm=int(input(\"Enter centermeter:\"))\n",
    "inch=cm/12\n",
    "feet=cm/30\n",
    "print(\"Centemeter:\",cm)\n",
    "print(\"inches:\",inch)\n",
    "print(\"Feet:\",feet)"
   ]
  },
  {
   "cell_type": "code",
   "execution_count": null,
   "metadata": {},
   "outputs": [],
   "source": []
  }
 ],
 "metadata": {
  "kernelspec": {
   "display_name": "Python 3",
   "language": "python",
   "name": "python3"
  },
  "language_info": {
   "codemirror_mode": {
    "name": "ipython",
    "version": 3
   },
   "file_extension": ".py",
   "mimetype": "text/x-python",
   "name": "python",
   "nbconvert_exporter": "python",
   "pygments_lexer": "ipython3",
   "version": "3.7.3"
  }
 },
 "nbformat": 4,
 "nbformat_minor": 2
}
