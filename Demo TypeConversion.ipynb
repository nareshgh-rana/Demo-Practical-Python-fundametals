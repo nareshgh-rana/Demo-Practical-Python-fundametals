{
 "cells": [
  {
   "cell_type": "code",
   "execution_count": null,
   "metadata": {},
   "outputs": [],
   "source": [
    "'''Practcal Demonstation for Type Conversion /Casting \n",
    "in Pyhton fundamentals'''"
   ]
  },
  {
   "cell_type": "code",
   "execution_count": 1,
   "metadata": {},
   "outputs": [
    {
     "name": "stdout",
     "output_type": "stream",
     "text": [
      "Enter a number and I'll doubleit: 3\n",
      "33\n"
     ]
    }
   ],
   "source": [
    "#Demo1:Program for type conversion/casting\n",
    "num1 = input(\"Enter a number and I'll doubleit: \")\n",
    "num1 = num1 * 2\n",
    "print(num1)"
   ]
  },
  {
   "cell_type": "code",
   "execution_count": 2,
   "metadata": {},
   "outputs": [
    {
     "name": "stdout",
     "output_type": "stream",
     "text": [
      "Enter a number and I'll doubleit: 4\n",
      "8\n"
     ]
    }
   ],
   "source": [
    "#Demo2:Program for type conversion/casting-modified\n",
    "num1 = int(input(\"Enter a number and I'll doubleit: \"))\n",
    "num1 = num1 * 2\n",
    "print(num1)"
   ]
  },
  {
   "cell_type": "code",
   "execution_count": 6,
   "metadata": {},
   "outputs": [
    {
     "name": "stdout",
     "output_type": "stream",
     "text": [
      "60\n",
      "<class 'int'>\n",
      "60.0\n",
      "<class 'float'>\n"
     ]
    }
   ],
   "source": [
    "#Demo 3: Program of explicit type conversion from int to float.\n",
    "#Explicit type conversion from int to float\n",
    "num1 = 40\n",
    "num2 = 20\n",
    "num3 = num1 + num2\n",
    "print(num3)\n",
    "print(type(num3))\n",
    "num4 = float(num1 + num2)\n",
    "print(num4)\n",
    "print(type(num4))"
   ]
  },
  {
   "cell_type": "code",
   "execution_count": 5,
   "metadata": {},
   "outputs": [
    {
     "name": "stdout",
     "output_type": "stream",
     "text": [
      "43.8\n",
      "<class 'float'>\n",
      "43\n",
      "<class 'int'>\n"
     ]
    }
   ],
   "source": [
    "#Demo 4:Program of explicit type conversion from float to int.\n",
    "num1 = 15.2\n",
    "num2 = 28.6\n",
    "num3 = (num1 + num2)\n",
    "print(num3)\n",
    "print(type(num3))\n",
    "num4 = int(num1 + num2)\n",
    "print(num4)\n",
    "print(type(num4))"
   ]
  },
  {
   "cell_type": "code",
   "execution_count": 7,
   "metadata": {},
   "outputs": [
    {
     "ename": "TypeError",
     "evalue": "can only concatenate str (not \"int\") to str",
     "output_type": "error",
     "traceback": [
      "\u001b[1;31m---------------------------------------------------------------------------\u001b[0m",
      "\u001b[1;31mTypeError\u001b[0m                                 Traceback (most recent call last)",
      "\u001b[1;32m<ipython-input-7-67fa11afc7b2>\u001b[0m in \u001b[0;36m<module>\u001b[1;34m\u001b[0m\n\u001b[0;32m      3\u001b[0m \u001b[0mpriceBrownie\u001b[0m \u001b[1;33m=\u001b[0m \u001b[1;36m45\u001b[0m\u001b[1;33m\u001b[0m\u001b[1;33m\u001b[0m\u001b[0m\n\u001b[0;32m      4\u001b[0m \u001b[0mtotalPrice\u001b[0m \u001b[1;33m=\u001b[0m \u001b[0mpriceIcecream\u001b[0m \u001b[1;33m+\u001b[0m \u001b[0mpriceBrownie\u001b[0m\u001b[1;33m\u001b[0m\u001b[1;33m\u001b[0m\u001b[0m\n\u001b[1;32m----> 5\u001b[1;33m \u001b[0mprint\u001b[0m\u001b[1;33m(\u001b[0m\u001b[1;34m\"The total is Rs.\"\u001b[0m \u001b[1;33m+\u001b[0m \u001b[0mtotalPrice\u001b[0m \u001b[1;33m)\u001b[0m\u001b[1;33m\u001b[0m\u001b[1;33m\u001b[0m\u001b[0m\n\u001b[0m",
      "\u001b[1;31mTypeError\u001b[0m: can only concatenate str (not \"int\") to str"
     ]
    }
   ],
   "source": [
    "#Demo 5:Example of type conversion between numbers and strings.\n",
    "priceIcecream = 25\n",
    "priceBrownie = 45\n",
    "totalPrice = priceIcecream + priceBrownie\n",
    "print(\"The total is Rs.\" + totalPrice )"
   ]
  },
  {
   "cell_type": "code",
   "execution_count": 8,
   "metadata": {},
   "outputs": [
    {
     "name": "stdout",
     "output_type": "stream",
     "text": [
      "The total in Rs.110\n"
     ]
    }
   ],
   "source": [
    "#Demo 6: Program to show explicit type casting.\n",
    "priceIcecream = 25\n",
    "priceBrownie = 85\n",
    "totalPrice = priceIcecream + priceBrownie\n",
    "print(\"The total in Rs.\" + str(totalPrice))"
   ]
  },
  {
   "cell_type": "code",
   "execution_count": 9,
   "metadata": {},
   "outputs": [
    {
     "name": "stdout",
     "output_type": "stream",
     "text": [
      "Total Price Rs.3545\n",
      "Total Price Rs.80\n"
     ]
    }
   ],
   "source": [
    "# Demo 7: Program to show explicit type conversion.\n",
    "icecream = '35'\n",
    "brownie = '45'\n",
    "#String concatenation\n",
    "price = icecream + brownie\n",
    "print(\"Total Price Rs.\" + price)\n",
    "#Explicit type conversion - string to integer\n",
    "price = int(icecream)+int(brownie)\n",
    "print(\"Total Price Rs.\" + str(price))"
   ]
  },
  {
   "cell_type": "code",
   "execution_count": 13,
   "metadata": {},
   "outputs": [
    {
     "name": "stdout",
     "output_type": "stream",
     "text": [
      "sum: 30.0\n",
      "<class 'float'>\n"
     ]
    }
   ],
   "source": [
    "#Demo 8:Program to show implicit conversion from int to float.\n",
    "num1 = 10 #num1 is an integer\n",
    "num2 = 20.0 #num2 is a float\n",
    "sum1 = num1 + num2 #sum1 is sum of a float and an integer\n",
    "print(\"sum:\",sum1)\n",
    "print(type(sum1))"
   ]
  },
  {
   "cell_type": "code",
   "execution_count": null,
   "metadata": {},
   "outputs": [],
   "source": []
  }
 ],
 "metadata": {
  "kernelspec": {
   "display_name": "Python 3",
   "language": "python",
   "name": "python3"
  },
  "language_info": {
   "codemirror_mode": {
    "name": "ipython",
    "version": 3
   },
   "file_extension": ".py",
   "mimetype": "text/x-python",
   "name": "python",
   "nbconvert_exporter": "python",
   "pygments_lexer": "ipython3",
   "version": "3.7.3"
  }
 },
 "nbformat": 4,
 "nbformat_minor": 2
}
