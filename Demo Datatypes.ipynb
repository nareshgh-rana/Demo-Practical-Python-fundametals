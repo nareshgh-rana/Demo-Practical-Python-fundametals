{
 "cells": [
  {
   "cell_type": "code",
   "execution_count": 1,
   "metadata": {},
   "outputs": [
    {
     "name": "stdout",
     "output_type": "stream",
     "text": [
      "<class 'int'>\n"
     ]
    }
   ],
   "source": [
    "# To determine the data type of the variable using built-in function type()\n",
    "num1 = 10\n",
    "print(type(num1))"
   ]
  },
  {
   "cell_type": "code",
   "execution_count": 2,
   "metadata": {},
   "outputs": [
    {
     "name": "stdout",
     "output_type": "stream",
     "text": [
      "<class 'int'>\n"
     ]
    }
   ],
   "source": [
    "num2 = -1210\n",
    "print(type(num2))"
   ]
  },
  {
   "cell_type": "code",
   "execution_count": 3,
   "metadata": {},
   "outputs": [
    {
     "name": "stdout",
     "output_type": "stream",
     "text": [
      "<class 'bool'>\n"
     ]
    }
   ],
   "source": [
    "var1 = True\n",
    "print(type(var1))"
   ]
  },
  {
   "cell_type": "code",
   "execution_count": 4,
   "metadata": {},
   "outputs": [
    {
     "name": "stdout",
     "output_type": "stream",
     "text": [
      "<class 'float'>\n"
     ]
    }
   ],
   "source": [
    "float1 = -1921.9\n",
    "print(type(float1))"
   ]
  },
  {
   "cell_type": "code",
   "execution_count": 5,
   "metadata": {},
   "outputs": [
    {
     "name": "stdout",
     "output_type": "stream",
     "text": [
      "(-3+7.2j) <class 'complex'>\n"
     ]
    }
   ],
   "source": [
    "var2 = -3+7.2j\n",
    "print(var2, type(var2))"
   ]
  },
  {
   "cell_type": "code",
   "execution_count": 6,
   "metadata": {},
   "outputs": [
    {
     "name": "stdout",
     "output_type": "stream",
     "text": [
      "[5, 3.4, 'New Delhi', '20C', 45]\n"
     ]
    }
   ],
   "source": [
    "#Demo2: To create a list\n",
    "list1 = [5, 3.4, \"New Delhi\", \"20C\", 45]\n",
    "#print the elements of the list list1\n",
    "print(list1)"
   ]
  },
  {
   "cell_type": "code",
   "execution_count": 7,
   "metadata": {},
   "outputs": [
    {
     "name": "stdout",
     "output_type": "stream",
     "text": [
      "(10, 20, 'Apple', 3.4, 'a')\n"
     ]
    }
   ],
   "source": [
    "#Demo3 to create a tuple tuple1\n",
    "tuple1 = (10, 20, \"Apple\", 3.4, 'a')\n",
    "#print the elements of the tuple tuple1\n",
    "print(tuple1)"
   ]
  },
  {
   "cell_type": "code",
   "execution_count": 9,
   "metadata": {},
   "outputs": [
    {
     "name": "stdout",
     "output_type": "stream",
     "text": [
      "<class 'set'>\n",
      "{3.14, 10, 20, 'New Delhi'}\n",
      "{1, 2, 3}\n"
     ]
    }
   ],
   "source": [
    "# Demo4:to create a set\n",
    "set1 = {10,20,3.14,\"New Delhi\"}\n",
    "print(type(set1))\n",
    "print(set1)\n",
    "#duplicate elements are not included in set\n",
    "set2 = {1,2,1,3}\n",
    "print(set2)"
   ]
  },
  {
   "cell_type": "code",
   "execution_count": 11,
   "metadata": {},
   "outputs": [
    {
     "name": "stdout",
     "output_type": "stream",
     "text": [
      "<class 'NoneType'>\n",
      "None\n"
     ]
    }
   ],
   "source": [
    "#Demo5: for none data type\n",
    "myVar = None\n",
    "print(type(myVar))\n",
    "print(myVar)"
   ]
  },
  {
   "cell_type": "code",
   "execution_count": 12,
   "metadata": {},
   "outputs": [
    {
     "name": "stdout",
     "output_type": "stream",
     "text": [
      "{'Fruit': 'Apple', 'Climate': 'Cold', 'Price(kg)': 120}\n",
      "120\n"
     ]
    }
   ],
   "source": [
    "#Demo 6: To create a dictionary\n",
    "dict1 = {'Fruit':'Apple','Climate':'Cold', 'Price(kg)':120}\n",
    "print(dict1)\n",
    "print(dict1['Price(kg)'])\n"
   ]
  },
  {
   "cell_type": "code",
   "execution_count": 14,
   "metadata": {},
   "outputs": [
    {
     "name": "stdout",
     "output_type": "stream",
     "text": [
      "100 259903184\n",
      "300 85034672\n"
     ]
    }
   ],
   "source": [
    "#Demo7: For Mutable and Immutable Data Types\n",
    "num1=100\n",
    "num2=num1\n",
    "num1=num2+200\n",
    "print(num2,id(num2))\n",
    "print(num1,id(num1))"
   ]
  },
  {
   "cell_type": "code",
   "execution_count": null,
   "metadata": {},
   "outputs": [],
   "source": []
  }
 ],
 "metadata": {
  "kernelspec": {
   "display_name": "Python 3",
   "language": "python",
   "name": "python3"
  },
  "language_info": {
   "codemirror_mode": {
    "name": "ipython",
    "version": 3
   },
   "file_extension": ".py",
   "mimetype": "text/x-python",
   "name": "python",
   "nbconvert_exporter": "python",
   "pygments_lexer": "ipython3",
   "version": "3.7.3"
  }
 },
 "nbformat": 4,
 "nbformat_minor": 2
}
